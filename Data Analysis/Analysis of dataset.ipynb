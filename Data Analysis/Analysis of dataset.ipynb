{
 "cells": [
  {
   "cell_type": "code",
   "execution_count": 2,
   "metadata": {},
   "outputs": [],
   "source": [
    "import scipy.io as scio"
   ]
  },
  {
   "cell_type": "code",
   "execution_count": 3,
   "metadata": {},
   "outputs": [],
   "source": [
    "Dmos=[]\n",
    "index=2\n",
    "for j in range(4,7):\n",
    "    for i in range(0,8):\n",
    "        index=index+1\n",
    "        path = '/Users/jessica/CMT309/Project-VMAF/LIVE_NFLX_PublicData_Release/content_'+str(j)+'_seq_'+str(i)+'.mat'\n",
    "        data = scio.loadmat(path)\n",
    "        Dmos.append((index,(data['final_subj_score']*20)+100))"
   ]
  },
  {
   "cell_type": "code",
   "execution_count": 4,
   "metadata": {},
   "outputs": [
    {
     "data": {
      "text/plain": [
       "[(3, array([[117.88163116]])),\n",
       " (4, array([[77.58410662]])),\n",
       " (5, array([[67.91195516]])),\n",
       " (6, array([[73.90409833]])),\n",
       " (7, array([[76.20880293]])),\n",
       " (8, array([[77.69179472]])),\n",
       " (9, array([[79.06334592]])),\n",
       " (10, array([[70.61245429]])),\n",
       " (11, array([[116.26050256]])),\n",
       " (12, array([[94.88609898]])),\n",
       " (13, array([[76.51846811]])),\n",
       " (14, array([[84.56423849]])),\n",
       " (15, array([[83.12164798]])),\n",
       " (16, array([[88.17974099]])),\n",
       " (17, array([[89.50126953]])),\n",
       " (18, array([[83.23762229]])),\n",
       " (19, array([[121.33408353]])),\n",
       " (20, array([[88.0420575]])),\n",
       " (21, array([[79.38867645]])),\n",
       " (22, array([[84.27898804]])),\n",
       " (23, array([[83.86165956]])),\n",
       " (24, array([[82.70964603]])),\n",
       " (25, array([[92.52067508]])),\n",
       " (26, array([[81.69860368]]))]"
      ]
     },
     "execution_count": 4,
     "metadata": {},
     "output_type": "execute_result"
    }
   ],
   "source": [
    "Dmos"
   ]
  },
  {
   "cell_type": "code",
   "execution_count": 117,
   "metadata": {},
   "outputs": [],
   "source": [
    "VMAFlist=[]\n",
    "SubjScore=[]\n",
    "index=2\n",
    "for j in range(4,7):\n",
    "    for i in range(0,8):\n",
    "        index=index+1\n",
    "        path = '/Users/jessica/CMT309/Project-VMAF/LIVE_NFLX_PublicData_Release/content_'+str(j)+'_seq_'+str(i)+'.mat'\n",
    "        data = scio.loadmat(path)\n",
    "        VMAFlist.append(data['VMAF_mean'][0][0])\n",
    "        SubjScore.append(data['final_subj_score'][0][0])"
   ]
  },
  {
   "cell_type": "code",
   "execution_count": 118,
   "metadata": {},
   "outputs": [],
   "source": [
    "import pandas as pd\n",
    "frame = pd.DataFrame({'VMAF':VMAFlist,'Sub':SubjScore})"
   ]
  },
  {
   "cell_type": "code",
   "execution_count": 119,
   "metadata": {},
   "outputs": [
    {
     "data": {
      "text/html": [
       "<div>\n",
       "<style scoped>\n",
       "    .dataframe tbody tr th:only-of-type {\n",
       "        vertical-align: middle;\n",
       "    }\n",
       "\n",
       "    .dataframe tbody tr th {\n",
       "        vertical-align: top;\n",
       "    }\n",
       "\n",
       "    .dataframe thead th {\n",
       "        text-align: right;\n",
       "    }\n",
       "</style>\n",
       "<table border=\"1\" class=\"dataframe\">\n",
       "  <thead>\n",
       "    <tr style=\"text-align: right;\">\n",
       "      <th></th>\n",
       "      <th>VMAF</th>\n",
       "      <th>Sub</th>\n",
       "    </tr>\n",
       "  </thead>\n",
       "  <tbody>\n",
       "    <tr>\n",
       "      <th>VMAF</th>\n",
       "      <td>1.000000</td>\n",
       "      <td>0.235652</td>\n",
       "    </tr>\n",
       "    <tr>\n",
       "      <th>Sub</th>\n",
       "      <td>0.235652</td>\n",
       "      <td>1.000000</td>\n",
       "    </tr>\n",
       "  </tbody>\n",
       "</table>\n",
       "</div>"
      ],
      "text/plain": [
       "          VMAF       Sub\n",
       "VMAF  1.000000  0.235652\n",
       "Sub   0.235652  1.000000"
      ]
     },
     "execution_count": 119,
     "metadata": {},
     "output_type": "execute_result"
    }
   ],
   "source": [
    "frame.corr(method='spearman')"
   ]
  },
  {
   "cell_type": "code",
   "execution_count": 123,
   "metadata": {},
   "outputs": [
    {
     "name": "stdout",
     "output_type": "stream",
     "text": [
      "RMSE: 13.053221368558136\n"
     ]
    }
   ],
   "source": [
    "from sklearn.metrics import mean_squared_error\n",
    "import math\n",
    "MSE=mean_squared_error(VMAFlist, SubjScore)\n",
    "print(\"RMSE:\",math.sqrt(MSE))"
   ]
  },
  {
   "cell_type": "code",
   "execution_count": 5,
   "metadata": {},
   "outputs": [],
   "source": [
    "Finallist=[]\n",
    "path2='/Users/jessica/CMT309/Project-VMAF/Dataset_Information/Mat_Files/MeridianConversation_HuangBufferBasedAdaptor_Trace_5.mat'\n",
    "data2 = scio.loadmat(path2)\n",
    "Finallist.append((data2['content_name'],(data2['retrospective_zscored_mos']+3)*100/6))"
   ]
  },
  {
   "cell_type": "code",
   "execution_count": 10,
   "metadata": {},
   "outputs": [
    {
     "data": {
      "text/plain": [
       "array(['Ferry_nesoddtangen_oslo'], dtype='<U23')"
      ]
     },
     "execution_count": 10,
     "metadata": {},
     "output_type": "execute_result"
    }
   ],
   "source": [
    "data2[\"throughput_trace_name\"]"
   ]
  },
  {
   "cell_type": "code",
   "execution_count": 11,
   "metadata": {},
   "outputs": [
    {
     "data": {
      "text/plain": [
       "dict_keys(['__header__', '__version__', '__globals__', 'content_name', 'STRRED', 'N_playback_frames', 'VMAF', 'SSIM', 'buffer_evolution_sec', 'height', 'playback_duration_sec', 'playout_bitrate', 'continuous_zscored_mos', 'scene_cuts_detected', 'PSNR', 'MSSIM', 'per_segment_encoding_QP', 'rebuffer_duration_sec', 'video_duration_sec', 'width', 'per_segment_encoding_height', 'selected_streams', 'distorted_mp4_video', 'adaptation_algorithm', 'rebuffer_number', 'content_spatial_information', 'content_temporal_information', 'frame_rate', 'per_segment_encoding_width', 'cropping_parameters', 'throughput_trace_name', 'content_name_acronym', 'scene_cuts', 'N_rebuffer_frames', 'is_rebuffered_bool', 'throughput_trace_kbps', 'reference_yuv_video', 'N_total_frames', 'retrospective_zscored_mos'])"
      ]
     },
     "execution_count": 11,
     "metadata": {},
     "output_type": "execute_result"
    }
   ],
   "source": [
    "data2.keys()"
   ]
  },
  {
   "cell_type": "code",
   "execution_count": 12,
   "metadata": {},
   "outputs": [
    {
     "data": {
      "text/plain": [
       "87.19987301409292"
      ]
     },
     "execution_count": 12,
     "metadata": {},
     "output_type": "execute_result"
    }
   ],
   "source": [
    "data2['VMAF'].mean()"
   ]
  },
  {
   "cell_type": "code",
   "execution_count": 13,
   "metadata": {},
   "outputs": [
    {
     "data": {
      "text/plain": [
       "array([[71.20594786]])"
      ]
     },
     "execution_count": 13,
     "metadata": {},
     "output_type": "execute_result"
    }
   ],
   "source": [
    "(data2['retrospective_zscored_mos']+3)*100/6"
   ]
  },
  {
   "cell_type": "code",
   "execution_count": 14,
   "metadata": {},
   "outputs": [
    {
     "data": {
      "text/plain": [
       "41.5776242853567"
      ]
     },
     "execution_count": 14,
     "metadata": {},
     "output_type": "execute_result"
    }
   ],
   "source": [
    "data2['PSNR'].mean()"
   ]
  },
  {
   "cell_type": "code",
   "execution_count": 275,
   "metadata": {},
   "outputs": [],
   "source": [
    "l1=[100.0,100.0,100.0,100.0,100.0,100.0,100.0,71.20594786,77.33257646,80.02137423,70.9271815,64.80535644,70.54420571,68.77750425, 69.2465279,51.06704602,58.83564129,65.26753674,60.60814239,56.27065646,60.60716474,57.67124787,54.56480162,50.58734211,64.64713045,65.99035516,66.69877301,50.65387293,60.03525298,68.79083488,58.99545326,65.07991342,68.70405091,69.33157037,69.19903054]"
   ]
  },
  {
   "cell_type": "code",
   "execution_count": 306,
   "metadata": {},
   "outputs": [],
   "source": [
    "Finallist=[]\n",
    "path2='/Users/jessica/CMT309/Project-VMAF/Dataset_Information/Mat_Files/MeridianDriving_HuangBufferBasedAdaptor_Trace_5.mat'\n",
    "data2 = scio.loadmat(path2)\n",
    "Finallist.append((data2['content_name'],data2['VMAF'].mean()))"
   ]
  },
  {
   "cell_type": "code",
   "execution_count": 307,
   "metadata": {},
   "outputs": [
    {
     "data": {
      "text/plain": [
       "[(array(['MeridianDriving'], dtype='<U15'), 75.12350024993493)]"
      ]
     },
     "execution_count": 307,
     "metadata": {},
     "output_type": "execute_result"
    }
   ],
   "source": [
    "Finallist"
   ]
  },
  {
   "cell_type": "code",
   "execution_count": 276,
   "metadata": {},
   "outputs": [],
   "source": [
    "l2=[100.0,100.0,100.0,100.0,100.0,100.0,100.0,87.19987301409292,90.92099034971685,91.3283338529103,89.9950431716576,75.12350024993493,80.13607764374528,80.82550983114113,80.83395793389445,62.5906814486326,76.3845278477572,76.2718060257726,75.95088591322556,54.42316332148595,63.939002582733856,63.19360311490098,62.992236107136755,57.15186906942241,68.36970075617724,66.64420965223869,67.82217927910051,59.97220257526607,73.58611103449748,72.80321862978249,72.16540487226851,73.57804369423492,85.47642842273812,81.59721959082678,83.75833493901916]"
   ]
  },
  {
   "cell_type": "code",
   "execution_count": 277,
   "metadata": {},
   "outputs": [],
   "source": [
    "framew = pd.DataFrame({'VMAF':l2,'Sub':l1})"
   ]
  },
  {
   "cell_type": "code",
   "execution_count": 278,
   "metadata": {},
   "outputs": [
    {
     "data": {
      "text/html": [
       "<div>\n",
       "<style scoped>\n",
       "    .dataframe tbody tr th:only-of-type {\n",
       "        vertical-align: middle;\n",
       "    }\n",
       "\n",
       "    .dataframe tbody tr th {\n",
       "        vertical-align: top;\n",
       "    }\n",
       "\n",
       "    .dataframe thead th {\n",
       "        text-align: right;\n",
       "    }\n",
       "</style>\n",
       "<table border=\"1\" class=\"dataframe\">\n",
       "  <thead>\n",
       "    <tr style=\"text-align: right;\">\n",
       "      <th></th>\n",
       "      <th>VMAF</th>\n",
       "      <th>Sub</th>\n",
       "    </tr>\n",
       "  </thead>\n",
       "  <tbody>\n",
       "    <tr>\n",
       "      <th>VMAF</th>\n",
       "      <td>1.000000</td>\n",
       "      <td>0.931677</td>\n",
       "    </tr>\n",
       "    <tr>\n",
       "      <th>Sub</th>\n",
       "      <td>0.931677</td>\n",
       "      <td>1.000000</td>\n",
       "    </tr>\n",
       "  </tbody>\n",
       "</table>\n",
       "</div>"
      ],
      "text/plain": [
       "          VMAF       Sub\n",
       "VMAF  1.000000  0.931677\n",
       "Sub   0.931677  1.000000"
      ]
     },
     "execution_count": 278,
     "metadata": {},
     "output_type": "execute_result"
    }
   ],
   "source": [
    "framew.corr(method='spearman')"
   ]
  },
  {
   "cell_type": "code",
   "execution_count": 279,
   "metadata": {},
   "outputs": [
    {
     "data": {
      "text/html": [
       "<div>\n",
       "<style scoped>\n",
       "    .dataframe tbody tr th:only-of-type {\n",
       "        vertical-align: middle;\n",
       "    }\n",
       "\n",
       "    .dataframe tbody tr th {\n",
       "        vertical-align: top;\n",
       "    }\n",
       "\n",
       "    .dataframe thead th {\n",
       "        text-align: right;\n",
       "    }\n",
       "</style>\n",
       "<table border=\"1\" class=\"dataframe\">\n",
       "  <thead>\n",
       "    <tr style=\"text-align: right;\">\n",
       "      <th></th>\n",
       "      <th>VMAF</th>\n",
       "      <th>Sub</th>\n",
       "    </tr>\n",
       "  </thead>\n",
       "  <tbody>\n",
       "    <tr>\n",
       "      <th>VMAF</th>\n",
       "      <td>1.000000</td>\n",
       "      <td>0.921387</td>\n",
       "    </tr>\n",
       "    <tr>\n",
       "      <th>Sub</th>\n",
       "      <td>0.921387</td>\n",
       "      <td>1.000000</td>\n",
       "    </tr>\n",
       "  </tbody>\n",
       "</table>\n",
       "</div>"
      ],
      "text/plain": [
       "          VMAF       Sub\n",
       "VMAF  1.000000  0.921387\n",
       "Sub   0.921387  1.000000"
      ]
     },
     "execution_count": 279,
     "metadata": {},
     "output_type": "execute_result"
    }
   ],
   "source": [
    "framew.corr(method='pearson')"
   ]
  },
  {
   "cell_type": "code",
   "execution_count": 280,
   "metadata": {},
   "outputs": [
    {
     "name": "stdout",
     "output_type": "stream",
     "text": [
      "RMSE: 10.082021454230317\n"
     ]
    }
   ],
   "source": [
    "MSE=mean_squared_error(l2, l1)\n",
    "print(\"RMSE:\",math.sqrt(MSE))"
   ]
  },
  {
   "cell_type": "code",
   "execution_count": 284,
   "metadata": {},
   "outputs": [],
   "source": [
    "from matplotlib import pyplot as plt\n",
    "def drawScatter(sample_data):\n",
    "    plt.figure()\n",
    "    plt.xlabel('DMOS')\n",
    "    plt.ylabel('VMAF_score')\n",
    "    plt.xlim(xmax=100,xmin=50)\n",
    "    plt.ylim(ymax=100,ymin=50)\n",
    "    x=list(sample_data[\"Sub\"])\n",
    "    y=list(sample_data[\"VMAF\"])  \n",
    "    plt.scatter(x, y, marker='o',label='VMAF')\n",
    "    plt.legend(loc = \"best\" )#图例\n",
    "    plt.grid()\n",
    "    #plt.plot([50,105], [50,105])\n",
    "    plt.show()"
   ]
  },
  {
   "cell_type": "code",
   "execution_count": 285,
   "metadata": {},
   "outputs": [
    {
     "data": {
      "image/png": "[encoded data removed]",
      "text/plain": [
       "<Figure size 432x288 with 1 Axes>"
      ]
     },
     "metadata": {
      "needs_background": "light"
     },
     "output_type": "display_data"
    }
   ],
   "source": [
    "drawScatter(framew)"
   ]
  },
  {
   "cell_type": "code",
   "execution_count": null,
   "metadata": {},
   "outputs": [],
   "source": []
  },
  {
   "cell_type": "code",
   "execution_count": null,
   "metadata": {},
   "outputs": [],
   "source": []
  },
  {
   "cell_type": "code",
   "execution_count": null,
   "metadata": {},
   "outputs": [],
   "source": []
  }
 ],
 "metadata": {
  "kernelspec": {
   "display_name": "Python 3",
   "language": "python",
   "name": "python3"
  },
  "language_info": {
   "codemirror_mode": {
    "name": "ipython",
    "version": 3
   },
   "file_extension": ".py",
   "mimetype": "text/x-python",
   "name": "python",
   "nbconvert_exporter": "python",
   "pygments_lexer": "ipython3",
   "version": "3.7.3"
  }
 },
 "nbformat": 4,
 "nbformat_minor": 2
}
